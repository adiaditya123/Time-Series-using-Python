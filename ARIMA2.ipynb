{
 "cells": [
  {
   "cell_type": "code",
   "execution_count": null,
   "metadata": {},
   "outputs": [
    {
     "name": "stdout",
     "output_type": "stream",
     "text": [
      "Requirement already satisfied: pmdarima in c:\\users\\hp\\anaconda3\\lib\\site-packages (1.5.3)\n",
      "Requirement already satisfied: joblib>=0.11 in c:\\users\\hp\\anaconda3\\lib\\site-packages (from pmdarima) (0.13.2)\n",
      "Requirement already satisfied: statsmodels>=0.10.2 in c:\\users\\hp\\anaconda3\\lib\\site-packages (from pmdarima) (0.11.0)\n",
      "Requirement already satisfied: scipy>=1.3.2 in c:\\users\\hp\\anaconda3\\lib\\site-packages (from pmdarima) (1.4.1)\n",
      "Requirement already satisfied: pandas>=0.19 in c:\\users\\hp\\anaconda3\\lib\\site-packages (from pmdarima) (0.24.2)\n",
      "Requirement already satisfied: numpy>=1.17.3 in c:\\users\\hp\\anaconda3\\lib\\site-packages (from pmdarima) (1.18.1)\n",
      "Requirement already satisfied: urllib3 in c:\\users\\hp\\anaconda3\\lib\\site-packages (from pmdarima) (1.24.2)\n",
      "Requirement already satisfied: scikit-learn>=0.22 in c:\\users\\hp\\anaconda3\\lib\\site-packages (from pmdarima) (0.22.1)\n",
      "Requirement already satisfied: Cython>=0.29 in c:\\users\\hp\\anaconda3\\lib\\site-packages (from pmdarima) (0.29.12)\n",
      "Requirement already satisfied: patsy>=0.5 in c:\\users\\hp\\anaconda3\\lib\\site-packages (from statsmodels>=0.10.2->pmdarima) (0.5.1)\n",
      "Requirement already satisfied: python-dateutil>=2.5.0 in c:\\users\\hp\\anaconda3\\lib\\site-packages (from pandas>=0.19->pmdarima) (2.8.0)\n",
      "Requirement already satisfied: pytz>=2011k in c:\\users\\hp\\anaconda3\\lib\\site-packages (from pandas>=0.19->pmdarima) (2019.1)\n",
      "Requirement already satisfied: six in c:\\users\\hp\\anaconda3\\lib\\site-packages (from patsy>=0.5->statsmodels>=0.10.2->pmdarima) (1.12.0)\n"
     ]
    }
   ],
   "source": [
    "import numpy as np\n",
    "import pandas as pd\n",
    "import statsmodels as sm\n",
    "import matplotlib as mt\n",
    "from matplotlib import pyplot as plt\n",
    "from statsmodels.tsa.stattools import adfuller\n",
    "import seaborn as sns\n",
    "from statsmodels.tsa.arima_model import ARIMA\n",
    "!pip install pmdarima\n",
    "import pmdarima as pm\n",
    "!conda install -c alkaline-ml pmdarima"
   ]
  },
  {
   "cell_type": "code",
   "execution_count": null,
   "metadata": {},
   "outputs": [],
   "source": [
    "df1=pd.read_csv('D:\\Documents\\Test_0qrQsBZ.csv')"
   ]
  },
  {
   "cell_type": "code",
   "execution_count": null,
   "metadata": {},
   "outputs": [],
   "source": [
    "a=df1.ID.rolling(window=200).mean()\n",
    "b=df1.ID.rolling(window=200).std()"
   ]
  },
  {
   "cell_type": "code",
   "execution_count": null,
   "metadata": {},
   "outputs": [],
   "source": [
    "x=pd.DataFrame(a)\n",
    "y=pd.DataFrame(b)"
   ]
  },
  {
   "cell_type": "code",
   "execution_count": null,
   "metadata": {},
   "outputs": [],
   "source": [
    "c=sns.lineplot(x=x['ID'],y=df1['ID'])"
   ]
  },
  {
   "cell_type": "code",
   "execution_count": null,
   "metadata": {},
   "outputs": [],
   "source": [
    "d=sns.lineplot(x=df1['Datetime'],y=df1['ID'])"
   ]
  },
  {
   "cell_type": "code",
   "execution_count": null,
   "metadata": {},
   "outputs": [],
   "source": [
    "result = adfuller(df1['ID'])\n",
    "print('ADF Statistic: {}'.format(result[0]))\n",
    "print('p-value: {}'.format(result[1]))\n",
    "print('Critical Values:')\n",
    "for key, value in result[4].items():\n",
    "    print('\\t{}: {}'.format(key, value))"
   ]
  },
  {
   "cell_type": "code",
   "execution_count": null,
   "metadata": {},
   "outputs": [],
   "source": [
    "from statsmodels.graphics.tsaplots import plot_acf, plot_pacf\n",
    "fig = plt.figure(figsize=(10, 10))\n",
    "ax1 = fig.add_subplot(311)\n",
    "fig = plot_acf(df1['ID'], ax=ax1,\n",
    "               title=\"Autocorrelation on Original Series\") \n",
    "ax2 = fig.add_subplot(312)\n",
    "fig = plot_acf(df1['ID'].diff().dropna(), ax=ax2, \n",
    "               title=\"1st Order Differencing\")\n",
    "ax3 = fig.add_subplot(313)\n",
    "fig = plot_acf(df1['ID'].diff().diff().dropna(), ax=ax3, \n",
    "               title=\"2nd Order Differencing\")"
   ]
  },
  {
   "cell_type": "code",
   "execution_count": null,
   "metadata": {},
   "outputs": [],
   "source": [
    "from statsmodels.tsa.arima_model import ARIMA\n",
    "model = ARIMA(df1['ID'], order=(10, 1,10))\n",
    "results = model.fit()\n",
    "results.plot_predict(1, 210)"
   ]
  },
  {
   "cell_type": "code",
   "execution_count": null,
   "metadata": {},
   "outputs": [],
   "source": [
    "results.summary()"
   ]
  },
  {
   "cell_type": "code",
   "execution_count": null,
   "metadata": {},
   "outputs": [],
   "source": [
    "def am(df1['ID']):\n",
    "    automodel = pm.auto_arima(df1['ID'], \n",
    "                              start_p=1, \n",
    "                              start_q=1,\n",
    "                              test=\"adf\",\n",
    "                              seasonal=False,\n",
    "                              trace=True)\n",
    "    return automodel"
   ]
  },
  {
   "cell_type": "code",
   "execution_count": null,
   "metadata": {},
   "outputs": [],
   "source": [
    "def pm(n_periods,df1, automodel):\n",
    "    # Forecast\n",
    "    fc, confint = automodel.predict(n_periods=n_periods, \n",
    "                                    return_conf_int=True)\n",
    "    # Weekly index\n",
    "    fc_ind = pd.date_range(df1.index[df1.shape[0]-1], \n",
    "                           periods=n_periods, freq=\"W\")\n",
    "    # Forecast series\n",
    "    fc_series = pd.Series(fc, index=fc_ind)\n",
    "    # Upper and lower confidence bounds\n",
    "    lower_series = pd.Series(confint[:, 0], index=fc_ind)\n",
    "    upper_series = pd.Series(confint[:, 1], index=fc_ind)\n",
    "    # Create plot\n",
    "    plt.figure(figsize=(10, 6))\n",
    "    plt.plot(df1)\n",
    "    plt.plot(fc_series, color=\"red\")\n",
    "    plt.xlabel(\"date\")\n",
    "    plt.ylabel(df1.name)\n",
    "    plt.fill_between(lower_series.index, \n",
    "                     lower_series, \n",
    "                     upper_series, \n",
    "                     color=\"k\", \n",
    "                     alpha=0.25)\n",
    "    plt.legend((\"past\", \"forecast\", \"95% confidence interval\"),  \n",
    "               loc=\"upper left\")\n",
    "    plt.show()"
   ]
  },
  {
   "cell_type": "code",
   "execution_count": null,
   "metadata": {},
   "outputs": [],
   "source": [
    "am = arimamodel(df1[\"ID\"])\n",
    "pm(70, feature_mean[\"ID\"], automodel)"
   ]
  },
  {
   "cell_type": "code",
   "execution_count": null,
   "metadata": {},
   "outputs": [],
   "source": []
  },
  {
   "cell_type": "code",
   "execution_count": null,
   "metadata": {},
   "outputs": [],
   "source": [
    "\n"
   ]
  },
  {
   "cell_type": "code",
   "execution_count": null,
   "metadata": {},
   "outputs": [],
   "source": []
  },
  {
   "cell_type": "code",
   "execution_count": null,
   "metadata": {},
   "outputs": [],
   "source": []
  },
  {
   "cell_type": "code",
   "execution_count": null,
   "metadata": {},
   "outputs": [],
   "source": []
  }
 ],
 "metadata": {
  "kernelspec": {
   "display_name": "Python 3",
   "language": "python",
   "name": "python3"
  },
  "language_info": {
   "codemirror_mode": {
    "name": "ipython",
    "version": 3
   },
   "file_extension": ".py",
   "mimetype": "text/x-python",
   "name": "python",
   "nbconvert_exporter": "python",
   "pygments_lexer": "ipython3",
   "version": "3.7.3"
  }
 },
 "nbformat": 4,
 "nbformat_minor": 2
}
